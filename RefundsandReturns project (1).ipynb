{
 "cells": [
  {
   "cell_type": "code",
   "execution_count": null,
   "id": "e69d066f-7d1a-4c7b-9379-0ae6cbf76c74",
   "metadata": {},
   "outputs": [],
   "source": [
    "import pandas as pd\n",
    "\n",
    "# File paths\n",
    "refunds_path = r\"D:\\Downloads\\Transactions for time period 2025-06-01 - 2025-07-31.csv\"\n",
    "returns_path = r\"D:\\Downloads\\89853020345.csv\"\n",
    "reimb_path   = r\"D:\\Downloads\\89855020345.csv\"\n",
    "\n",
    "# Load Refunds\n",
    "refunds = pd.read_csv(refunds_path, dtype=str, encoding=\"latin1\")\n",
    "refunds = refunds[[\"Order ID\", \"Product Details\"]].copy()\n",
    "refunds.rename(columns={\"Order ID\": \"order_id\", \"Product Details\": \"product_name\"}, inplace=True)\n",
    "\n",
    "# Load Returns\n",
    "returns = pd.read_csv(returns_path, dtype=str, encoding=\"latin1\")\n",
    "returns_ids = set(returns[\"order-id\"].dropna().astype(str).str.strip())\n",
    "\n",
    "# Load Reimbursements\n",
    "reimb = pd.read_csv(reimb_path, dtype=str, encoding=\"latin1\")\n",
    "reimb_ids = set(reimb[\"amazon-order-id\"].dropna().astype(str).str.strip())\n",
    "\n",
    "# Status check (adds column to refunds)\n",
    "refunds[\"status\"] = refunds[\"order_id\"].astype(str).str.strip().map(\n",
    "    lambda oid: \"Return or Reimbursement issued\" if oid in returns_ids or oid in reimb_ids else \"Needs Reimbursement\"\n",
    ")\n",
    "\n",
    "# Final table\n",
    "final = refunds[[\"order_id\", \"product_name\", \"status\"]]\n",
    "\n",
    "# Save directly to Downloads\n",
    "final.to_excel(r\"D:\\Downloads\\refunds_status_report1.xlsx\", index=False)\n",
    "\n",
    "final\n",
    "\n"
   ]
  },
  {
   "cell_type": "code",
   "execution_count": null,
   "id": "e0493a39-151a-48a0-bc82-b7c17d9bc8ea",
   "metadata": {},
   "outputs": [],
   "source": []
  },
  {
   "cell_type": "code",
   "execution_count": null,
   "id": "bb64894d-000e-45c0-990a-e23b67116e52",
   "metadata": {},
   "outputs": [],
   "source": []
  },
  {
   "cell_type": "code",
   "execution_count": null,
   "id": "a51c98f2-43f2-4620-8a0d-e8945ffaaaac",
   "metadata": {},
   "outputs": [],
   "source": []
  }
 ],
 "metadata": {
  "kernelspec": {
   "display_name": "Python [conda env:base] *",
   "language": "python",
   "name": "conda-base-py"
  },
  "language_info": {
   "codemirror_mode": {
    "name": "ipython",
    "version": 3
   },
   "file_extension": ".py",
   "mimetype": "text/x-python",
   "name": "python",
   "nbconvert_exporter": "python",
   "pygments_lexer": "ipython3",
   "version": "3.13.5"
  }
 },
 "nbformat": 4,
 "nbformat_minor": 5
}
